{
 "cells": [
  {
   "cell_type": "markdown",
   "id": "895e1bb9",
   "metadata": {},
   "source": [
    "# Cohere Demo\n",
    "trying out Cohere and its use case"
   ]
  },
  {
   "cell_type": "code",
   "execution_count": 1,
   "id": "817337d6",
   "metadata": {},
   "outputs": [],
   "source": [
    "import cohere"
   ]
  },
  {
   "cell_type": "code",
   "execution_count": 13,
   "id": "18129ca9",
   "metadata": {},
   "outputs": [],
   "source": [
    "api_key = \"qFjmBzo7Ys014QxjiCptMtLBEsjVvpB13V0LlwGZ\"\n",
    "co = cohere.Client(api_key)"
   ]
  },
  {
   "cell_type": "code",
   "execution_count": 32,
   "id": "3777db99",
   "metadata": {},
   "outputs": [
    {
     "name": "stdout",
     "output_type": "stream",
     "text": [
      " outputs \"Hello World!\" on a display device. It is used to check that a system is operational and known as one of the simplest executables possible in any programming language. It can be used to verify installation and build procedures of various software.\n",
      "\n",
      "I have started learning programming with C++. I am using the Visual Studio Code IDE. I am going to write a Hello World program in C++.\n",
      "\n",
      "Create a new folder in the desired location. I have created a new folder in\n",
      "nb characters 469\n"
     ]
    }
   ],
   "source": [
    "prompt = \"Hello World is a program that\"\n",
    "output = co.generate(model='xlarge',\n",
    "                     prompt=prompt,\n",
    "                     max_tokens=100,\n",
    "                     temperature=0.4)\n",
    "print(output.generations[0].text)\n",
    "print(\"nb characters\", len(output.generations[0].text))"
   ]
  },
  {
   "cell_type": "code",
   "execution_count": 33,
   "id": "683d0e80",
   "metadata": {},
   "outputs": [
    {
     "name": "stdout",
     "output_type": "stream",
     "text": [
      " is used to check the functionality of the compiler. It is a simple program that displays the output of the text \"Hello World!\" in the command line.\n",
      "\n",
      "You need to create a file with the .c extension to write a C program. In this case, you need to create a file called hello.c.\n",
      "\n",
      "The C programming language is a general-purpose computer programming language. It is a structured language and has a variety of built-in functions. It is a high-\n",
      "nb characters 438\n"
     ]
    }
   ],
   "source": [
    "promt = \"\"\"\n",
    "This program will generate the first paragraph of a blog post given \n",
    "a blog title.\n",
    "--\n",
    "Blog Title: Best Activities in Toronto\n",
    "First Paragraph: Looking for fun things to do in Toronto? \n",
    "When it comes to exploring Canada's largest city, there's an \n",
    "ever-evolving set of activities to choose from. Whether you're \n",
    "looking to visit a local museum or sample the city's varied \n",
    "cuisine, there is plenty to fill any itinerary. In this blog \n",
    "post, I'll share some of my favorite recommendations\n",
    "--\n",
    "Blog Title: Mastering Dynamic Programming\n",
    "First Paragraph: In this piece, we'll help you understand \n",
    "the fundamentals of dynamic programming, and when to apply \n",
    "this optimization technique. We'll break down bottom-up and \n",
    "top-down approaches to solve dynamic programming problems.\n",
    "--\n",
    "Blog Title: Learning to Code with Hello, World!\n",
    "First Paragraph:\n",
    "\"\"\"\n",
    "output = co.generate(model='xlarge',\n",
    "                     prompt=prompt,\n",
    "                     max_tokens=100,\n",
    "                     temperature=0.4,\n",
    "                     stop_sequences=[\"--\"])\n",
    "print(output.generations[0].text)\n",
    "print(\"nb characters\", len(output.generations[0].text))"
   ]
  },
  {
   "cell_type": "code",
   "execution_count": 79,
   "id": "f132d1b4",
   "metadata": {},
   "outputs": [
    {
     "name": "stdout",
     "output_type": "stream",
     "text": [
      "\n",
      "poem : my dear, you are a big dog the bigger the bigger the better and i don't want you to go i know you want to go but don't want to have to stay without you it is a very fine line i don't want to have to decide on my own i have a decision tree i don't want to make this decision\n",
      "--\n",
      "\n",
      "poem : The city shone with its canine eyes\n",
      "in this their world and we in our own\n",
      "we stand here listening in awe\n",
      "--\n",
      "\n",
      "dog, we are of different breed\n",
      "different ideas, both of us loyal\n",
      "--\n"
     ]
    }
   ],
   "source": [
    "prompt1 = \"\"\"\n",
    "this is a romantic poem generator based on a theme\n",
    "--\n",
    "theme : feeling\n",
    "poem : These are your own words your way of noticing and saying plainly of not turning away from hurt you have offered them to me I am only giving them back if only I could show you how very useless they are not \n",
    "--\n",
    "theme : lasting\n",
    "poem : at the back where we squat outside, eating popcorn at the edge of the receding glacier where painfully and with wonder at having survived even this far we are learning to make fire\n",
    "--\n",
    "theme : time\n",
    "poem : Were all stars to disappear or die I should learn to look at an empty sky and feel its total dark sublime though this might take me a little time\n",
    "--\n",
    "theme : \"\"\"\n",
    "\n",
    "prompt2 = \"\"\"\n",
    "this is a romantic poem generator based on a theme\n",
    "--\n",
    "theme : feeling\n",
    "poem : These are your own words\n",
    "your way of noticing and saying plainly of not turning away from hurt you have offered them to me\n",
    "I am only giving them back if only I could show you how very useless they are not \n",
    "--\n",
    "theme : lasting\n",
    "poem : at the back where we squat outside\n",
    "eating popcorn at the edge of the receding glacier\n",
    "where painfully and with wonder at having survived\n",
    "even this far we are learning to make fire\n",
    "--\n",
    "theme : time\n",
    "poem : Were all stars to disappear or die\n",
    "I should learn to look at an empty sky and feel its total dark sublime\n",
    "though this might take me a little time\n",
    "--\n",
    "theme : \"\"\"\n",
    "\n",
    "prompt3 = \"\"\"\n",
    "this is a romantic poem generator based on a theme\n",
    "--\n",
    "theme : feeling\n",
    "These are your own words\n",
    "your way of noticing and saying plainly of not turning away from hurt you have offered them to me\n",
    "I am only giving them back if only I could show you how very useless they are not \n",
    "--\n",
    "theme : lasting\n",
    "at the back where we squat outside\n",
    "eating popcorn at the edge of the receding glacier\n",
    "where painfully and with wonder at having survived\n",
    "even this far we are learning to make fire\n",
    "--\n",
    "theme : time\n",
    "Were all stars to disappear or die\n",
    "I should learn to look at an empty sky and feel its total dark sublime\n",
    "though this might take me a little time\n",
    "--\n",
    "theme : \"\"\"\n",
    "influence = \"dog\"\n",
    "temp = 1.0\n",
    "output1 = co.generate(model='xlarge',\n",
    "                     prompt=prompt1 + influence,\n",
    "                     max_tokens=100,\n",
    "                     temperature=temp,\n",
    "                     stop_sequences=[\"--\"])\n",
    "print(output1.generations[0].text)\n",
    "\n",
    "output2 = co.generate(model='xlarge',\n",
    "                     prompt=prompt2 + influence,\n",
    "                     max_tokens=100,\n",
    "                     temperature=temp,\n",
    "                     stop_sequences=[\"--\"])\n",
    "print(output2.generations[0].text)\n",
    "\n",
    "output3 = co.generate(model='xlarge',\n",
    "                     prompt=prompt3 + influence,\n",
    "                     max_tokens=100,\n",
    "                     temperature=temp,\n",
    "                     stop_sequences=[\"--\"])\n",
    "print(output3.generations[0].text)"
   ]
  },
  {
   "attachments": {},
   "cell_type": "markdown",
   "id": "3440fdc1",
   "metadata": {},
   "source": [
    "## Conclusion\n",
    "Cohere is inconsistant in it's results, sometime being completely off the mark or stuck in a loop repeating itself. It's also very sensible to whitespace, such has space and newlines."
   ]
  },
  {
   "cell_type": "markdown",
   "id": "2848ba66",
   "metadata": {},
   "source": []
  }
 ],
 "metadata": {
  "kernelspec": {
   "display_name": "Python 3.11.1 64-bit",
   "language": "python",
   "name": "python3"
  },
  "language_info": {
   "codemirror_mode": {
    "name": "ipython",
    "version": 3
   },
   "file_extension": ".py",
   "mimetype": "text/x-python",
   "name": "python",
   "nbconvert_exporter": "python",
   "pygments_lexer": "ipython3",
   "version": "3.11.1"
  },
  "vscode": {
   "interpreter": {
    "hash": "aee8b7b246df8f9039afb4144a1f6fd8d2ca17a180786b69acc140d282b71a49"
   }
  }
 },
 "nbformat": 4,
 "nbformat_minor": 5
}
